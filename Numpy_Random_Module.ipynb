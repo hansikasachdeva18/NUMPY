{
  "nbformat": 4,
  "nbformat_minor": 0,
  "metadata": {
    "kernelspec": {
      "display_name": "Python 3",
      "language": "python",
      "name": "python3"
    },
    "language_info": {
      "codemirror_mode": {
        "name": "ipython",
        "version": 3
      },
      "file_extension": ".py",
      "mimetype": "text/x-python",
      "name": "python",
      "nbconvert_exporter": "python",
      "pygments_lexer": "ipython3",
      "version": "3.8.3"
    },
    "colab": {
      "name": "Numpy Random Module.ipynb",
      "provenance": []
    }
  },
  "cells": [
    {
      "cell_type": "code",
      "metadata": {
        "id": "JnCrwV6Akime",
        "outputId": "bf8c53c3-95e7-4c8f-9ecc-3d49c8194925"
      },
      "source": [
        "\n",
        "import numpy as np\n",
        "a=np.arange(10)\n",
        "a"
      ],
      "execution_count": null,
      "outputs": [
        {
          "data": {
            "text/plain": [
              "array([0, 1, 2, 3, 4, 5, 6, 7, 8, 9])"
            ]
          },
          "execution_count": 1,
          "metadata": {},
          "output_type": "execute_result"
        }
      ]
    },
    {
      "cell_type": "markdown",
      "metadata": {
        "id": "U4q_uJZ1kimj"
      },
      "source": [
        "# What if you want to start your array from 5?"
      ]
    },
    {
      "cell_type": "code",
      "metadata": {
        "id": "NDV-vbijkiml",
        "outputId": "f7f68c24-0010-442a-86e2-482bc9e3c2f1"
      },
      "source": [
        "a=np.arange(10)+5\n",
        "a"
      ],
      "execution_count": null,
      "outputs": [
        {
          "data": {
            "text/plain": [
              "array([ 5,  6,  7,  8,  9, 10, 11, 12, 13, 14])"
            ]
          },
          "execution_count": 2,
          "metadata": {},
          "output_type": "execute_result"
        }
      ]
    },
    {
      "cell_type": "markdown",
      "metadata": {
        "id": "lFdbwLhikimn"
      },
      "source": [
        "# shuffle"
      ]
    },
    {
      "cell_type": "code",
      "metadata": {
        "id": "t16Ekkujkimo",
        "outputId": "2da42caa-b9d3-4ed0-f9f8-98b3a95d8d83"
      },
      "source": [
        "\n",
        "import random\n",
        "np.random.shuffle(a)\n",
        "print(a)"
      ],
      "execution_count": null,
      "outputs": [
        {
          "name": "stdout",
          "output_type": "stream",
          "text": [
            "[11 14  7  9 13  6  5 12  8 10]\n"
          ]
        }
      ]
    },
    {
      "cell_type": "markdown",
      "metadata": {
        "id": "VVt6Tm8mkimp"
      },
      "source": [
        "# rand function (generate random values in a given shape)"
      ]
    },
    {
      "cell_type": "code",
      "metadata": {
        "id": "-LP1kJQ_kimq",
        "outputId": "22bb93c8-6a24-4fb7-b2f2-aa13e9090fb7"
      },
      "source": [
        "np.random.rand(2,3)"
      ],
      "execution_count": null,
      "outputs": [
        {
          "data": {
            "text/plain": [
              "array([[0.42064247, 0.24358813, 0.67808197],\n",
              "       [0.78771757, 0.81758329, 0.88742556]])"
            ]
          },
          "execution_count": 6,
          "metadata": {},
          "output_type": "execute_result"
        }
      ]
    },
    {
      "cell_type": "markdown",
      "metadata": {
        "id": "40v50CnNkims"
      },
      "source": [
        "# randn funciton ( return a sample from the \"standard normal distribution\")\n"
      ]
    },
    {
      "cell_type": "code",
      "metadata": {
        "id": "VCLoMMSbkimt",
        "outputId": "fd085437-77e6-4243-d6cf-1076ae91787f"
      },
      "source": [
        "np.random.randn(2,3) # values from std normal distribution"
      ],
      "execution_count": null,
      "outputs": [
        {
          "data": {
            "text/plain": [
              "array([[-0.08463573, -0.04697859, -0.62270862],\n",
              "       [ 0.37697795,  0.60959663,  0.91678339]])"
            ]
          },
          "execution_count": 9,
          "metadata": {},
          "output_type": "execute_result"
        }
      ]
    },
    {
      "cell_type": "markdown",
      "metadata": {
        "id": "NFlJUARPkimu"
      },
      "source": [
        "# randint function ( returns numbers within the given range )"
      ]
    },
    {
      "cell_type": "code",
      "metadata": {
        "id": "SBRuwhbjkimv",
        "outputId": "d286a6e9-bb1d-4f6e-cf6c-66de557614f2"
      },
      "source": [
        "np.random.randint(5,10,3)"
      ],
      "execution_count": null,
      "outputs": [
        {
          "data": {
            "text/plain": [
              "array([8, 8, 9])"
            ]
          },
          "execution_count": 12,
          "metadata": {},
          "output_type": "execute_result"
        }
      ]
    },
    {
      "cell_type": "markdown",
      "metadata": {
        "id": "83KHwuQakimw"
      },
      "source": [
        "# choice function"
      ]
    },
    {
      "cell_type": "code",
      "metadata": {
        "id": "snLoTFLMkimw",
        "outputId": "d312eccf-ef3e-4e6e-90e6-ffe3baedfacb"
      },
      "source": [
        "np.random.choice([1,2,3,4,43]) # randomly choose any one element from array"
      ],
      "execution_count": null,
      "outputs": [
        {
          "data": {
            "text/plain": [
              "4"
            ]
          },
          "execution_count": 21,
          "metadata": {},
          "output_type": "execute_result"
        }
      ]
    }
  ]
}